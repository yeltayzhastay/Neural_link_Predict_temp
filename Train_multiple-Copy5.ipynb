{
 "cells": [
  {
   "cell_type": "code",
   "execution_count": 1,
   "metadata": {},
   "outputs": [],
   "source": [
    "import numpy as np\n",
    "import pandas as pd\n",
    "from sklearn.model_selection import train_test_split\n",
    "from sklearn.preprocessing import MinMaxScaler\n",
    "from keras.models import Sequential\n",
    "from keras.layers import Dense\n",
    "\n",
    "import tensorflow as tf\n",
    "import matplotlib as mpl\n",
    "import matplotlib.pyplot as plt\n",
    "import os\n",
    "\n",
    "mpl.rcParams['figure.figsize'] = (8, 6)\n",
    "mpl.rcParams['axes.grid'] = False"
   ]
  },
  {
   "cell_type": "code",
   "execution_count": 2,
   "metadata": {},
   "outputs": [],
   "source": [
    "df1 = pd.read_csv(\"time_cleaned.csv\")\n",
    "\n",
    "#df1 = df1.set_index('time')\n",
    "#df1.columns = ['Temp1', 'Temp2', 'Temp3', 'Temp4', 'Temp5', 'Temp6', 'Temp7', 'Temp8', 'Temp9', 'Temp10']\n",
    "#df1"
   ]
  },
  {
   "cell_type": "code",
   "execution_count": 3,
   "metadata": {},
   "outputs": [
    {
     "data": {
      "text/html": [
       "<div>\n",
       "<style scoped>\n",
       "    .dataframe tbody tr th:only-of-type {\n",
       "        vertical-align: middle;\n",
       "    }\n",
       "\n",
       "    .dataframe tbody tr th {\n",
       "        vertical-align: top;\n",
       "    }\n",
       "\n",
       "    .dataframe thead th {\n",
       "        text-align: right;\n",
       "    }\n",
       "</style>\n",
       "<table border=\"1\" class=\"dataframe\">\n",
       "  <thead>\n",
       "    <tr style=\"text-align: right;\">\n",
       "      <th></th>\n",
       "      <th>time</th>\n",
       "      <th>Temp1</th>\n",
       "      <th>Temp2</th>\n",
       "      <th>Temp3</th>\n",
       "      <th>Temp4</th>\n",
       "      <th>Temp5</th>\n",
       "      <th>Temp6</th>\n",
       "      <th>Temp7</th>\n",
       "      <th>Temp8</th>\n",
       "      <th>Temp9</th>\n",
       "      <th>Temp10</th>\n",
       "    </tr>\n",
       "  </thead>\n",
       "  <tbody>\n",
       "    <tr>\n",
       "      <th>0</th>\n",
       "      <td>26.05.2019 15:56:51</td>\n",
       "      <td>23</td>\n",
       "      <td>23</td>\n",
       "      <td>24</td>\n",
       "      <td>24</td>\n",
       "      <td>24</td>\n",
       "      <td>23</td>\n",
       "      <td>24</td>\n",
       "      <td>25</td>\n",
       "      <td>24</td>\n",
       "      <td>24</td>\n",
       "    </tr>\n",
       "    <tr>\n",
       "      <th>1</th>\n",
       "      <td>26.05.2019 16:26:57</td>\n",
       "      <td>23</td>\n",
       "      <td>23</td>\n",
       "      <td>24</td>\n",
       "      <td>24</td>\n",
       "      <td>24</td>\n",
       "      <td>24</td>\n",
       "      <td>24</td>\n",
       "      <td>25</td>\n",
       "      <td>24</td>\n",
       "      <td>24</td>\n",
       "    </tr>\n",
       "    <tr>\n",
       "      <th>2</th>\n",
       "      <td>26.05.2019 16:56:59</td>\n",
       "      <td>24</td>\n",
       "      <td>24</td>\n",
       "      <td>24</td>\n",
       "      <td>24</td>\n",
       "      <td>25</td>\n",
       "      <td>24</td>\n",
       "      <td>24</td>\n",
       "      <td>25</td>\n",
       "      <td>24</td>\n",
       "      <td>24</td>\n",
       "    </tr>\n",
       "    <tr>\n",
       "      <th>3</th>\n",
       "      <td>26.05.2019 17:07:00</td>\n",
       "      <td>25</td>\n",
       "      <td>24</td>\n",
       "      <td>24</td>\n",
       "      <td>25</td>\n",
       "      <td>25</td>\n",
       "      <td>24</td>\n",
       "      <td>24</td>\n",
       "      <td>25</td>\n",
       "      <td>25</td>\n",
       "      <td>25</td>\n",
       "    </tr>\n",
       "    <tr>\n",
       "      <th>4</th>\n",
       "      <td>26.05.2019 17:27:01</td>\n",
       "      <td>25</td>\n",
       "      <td>24</td>\n",
       "      <td>25</td>\n",
       "      <td>25</td>\n",
       "      <td>25</td>\n",
       "      <td>25</td>\n",
       "      <td>25</td>\n",
       "      <td>25</td>\n",
       "      <td>25</td>\n",
       "      <td>25</td>\n",
       "    </tr>\n",
       "    <tr>\n",
       "      <th>...</th>\n",
       "      <td>...</td>\n",
       "      <td>...</td>\n",
       "      <td>...</td>\n",
       "      <td>...</td>\n",
       "      <td>...</td>\n",
       "      <td>...</td>\n",
       "      <td>...</td>\n",
       "      <td>...</td>\n",
       "      <td>...</td>\n",
       "      <td>...</td>\n",
       "      <td>...</td>\n",
       "    </tr>\n",
       "    <tr>\n",
       "      <th>7899</th>\n",
       "      <td>09.11.2019 6:38:25</td>\n",
       "      <td>21</td>\n",
       "      <td>20</td>\n",
       "      <td>20</td>\n",
       "      <td>20</td>\n",
       "      <td>21</td>\n",
       "      <td>20</td>\n",
       "      <td>20</td>\n",
       "      <td>21</td>\n",
       "      <td>20</td>\n",
       "      <td>20</td>\n",
       "    </tr>\n",
       "    <tr>\n",
       "      <th>7900</th>\n",
       "      <td>09.11.2019 7:08:30</td>\n",
       "      <td>21</td>\n",
       "      <td>20</td>\n",
       "      <td>20</td>\n",
       "      <td>20</td>\n",
       "      <td>21</td>\n",
       "      <td>20</td>\n",
       "      <td>20</td>\n",
       "      <td>21</td>\n",
       "      <td>20</td>\n",
       "      <td>20</td>\n",
       "    </tr>\n",
       "    <tr>\n",
       "      <th>7901</th>\n",
       "      <td>09.11.2019 7:28:36</td>\n",
       "      <td>21</td>\n",
       "      <td>20</td>\n",
       "      <td>20</td>\n",
       "      <td>20</td>\n",
       "      <td>21</td>\n",
       "      <td>20</td>\n",
       "      <td>20</td>\n",
       "      <td>21</td>\n",
       "      <td>20</td>\n",
       "      <td>20</td>\n",
       "    </tr>\n",
       "    <tr>\n",
       "      <th>7902</th>\n",
       "      <td>09.11.2019 8:48:56</td>\n",
       "      <td>21</td>\n",
       "      <td>20</td>\n",
       "      <td>20</td>\n",
       "      <td>20</td>\n",
       "      <td>21</td>\n",
       "      <td>20</td>\n",
       "      <td>20</td>\n",
       "      <td>21</td>\n",
       "      <td>20</td>\n",
       "      <td>20</td>\n",
       "    </tr>\n",
       "    <tr>\n",
       "      <th>7903</th>\n",
       "      <td>09.11.2019 8:58:58</td>\n",
       "      <td>21</td>\n",
       "      <td>20</td>\n",
       "      <td>20</td>\n",
       "      <td>20</td>\n",
       "      <td>21</td>\n",
       "      <td>20</td>\n",
       "      <td>20</td>\n",
       "      <td>21</td>\n",
       "      <td>20</td>\n",
       "      <td>20</td>\n",
       "    </tr>\n",
       "  </tbody>\n",
       "</table>\n",
       "<p>7904 rows × 11 columns</p>\n",
       "</div>"
      ],
      "text/plain": [
       "                     time  Temp1  Temp2  Temp3  Temp4  Temp5  Temp6  Temp7  \\\n",
       "0     26.05.2019 15:56:51     23     23     24     24     24     23     24   \n",
       "1     26.05.2019 16:26:57     23     23     24     24     24     24     24   \n",
       "2     26.05.2019 16:56:59     24     24     24     24     25     24     24   \n",
       "3     26.05.2019 17:07:00     25     24     24     25     25     24     24   \n",
       "4     26.05.2019 17:27:01     25     24     25     25     25     25     25   \n",
       "...                   ...    ...    ...    ...    ...    ...    ...    ...   \n",
       "7899   09.11.2019 6:38:25     21     20     20     20     21     20     20   \n",
       "7900   09.11.2019 7:08:30     21     20     20     20     21     20     20   \n",
       "7901   09.11.2019 7:28:36     21     20     20     20     21     20     20   \n",
       "7902   09.11.2019 8:48:56     21     20     20     20     21     20     20   \n",
       "7903   09.11.2019 8:58:58     21     20     20     20     21     20     20   \n",
       "\n",
       "      Temp8  Temp9  Temp10  \n",
       "0        25     24      24  \n",
       "1        25     24      24  \n",
       "2        25     24      24  \n",
       "3        25     25      25  \n",
       "4        25     25      25  \n",
       "...     ...    ...     ...  \n",
       "7899     21     20      20  \n",
       "7900     21     20      20  \n",
       "7901     21     20      20  \n",
       "7902     21     20      20  \n",
       "7903     21     20      20  \n",
       "\n",
       "[7904 rows x 11 columns]"
      ]
     },
     "execution_count": 3,
     "metadata": {},
     "output_type": "execute_result"
    }
   ],
   "source": [
    "df1"
   ]
  },
  {
   "cell_type": "code",
   "execution_count": 4,
   "metadata": {},
   "outputs": [],
   "source": [
    "def shaper(arr, n_time = 1):\n",
    "    arr = arr.values.tolist()\n",
    "    shape_list = []\n",
    "    for i in range(0, len(arr) - n_time, 1):\n",
    "        time_list = []\n",
    "        for j in range(n_time):\n",
    "            time_list +=arr[i + j]\n",
    "        shape_list.append(time_list)\n",
    "        \n",
    "    columns = []\n",
    "    for i in range((-n_time)+1,1,1):\n",
    "        columns += [\"Temp1_\" + str(i), \n",
    "                    \"Temp2_\" + str(i), \n",
    "                    \"Temp3_\" + str(i), \n",
    "                    \"Temp4_\" + str(i), \n",
    "                    \"Temp5_\" + str(i), \n",
    "                    \"Temp6_\" + str(i), \n",
    "                    \"Temp7_\" + str(i), \n",
    "                    \"Temp8_\" + str(i), \n",
    "                    \"Temp9_\" + str(i), \n",
    "                    \"Temp10_\" + str(i),\n",
    "                    #'cond1_off_' + str(i),\n",
    "                    #'c1_16h_' + str(i), \n",
    "                    #'c1_16l_' + str(i), \n",
    "                    #'c1_23h_' + str(i), \n",
    "                    #'c1_23l_' + str(i), \n",
    "                    #'c1_30h_' + str(i), \n",
    "                    #'c1_30l_' + str(i), \n",
    "                    #'cond2_off_' + str(i), \n",
    "                    #'c2_16h_' + str(i), \n",
    "                    #'c2_16l_' + str(i), \n",
    "                    #'c2_23h_' + str(i), \n",
    "                    #'c2_23l_' + str(i), \n",
    "                    #'c2_30h_' + str(i), \n",
    "                    #'c2_30l_' + str(i)\n",
    "                   ]\n",
    "    \n",
    "    td = pd.DataFrame(shape_list, columns = columns)\n",
    "    return td\n",
    "\n",
    "def union_shaper(df_list, n_time = 1):\n",
    "    frames = []\n",
    "    for i in range(len(df_list)):\n",
    "        df = pd.DataFrame(df_list[i], columns = [\"time\", \"Temp1\",\"Temp2\", \"Temp3\", \"Temp4\", \"Temp5\", \"Temp6\", \"Temp7\", \"Temp8\", \"Temp9\", \"Temp10\"])\n",
    "        df = df.set_index('time')\n",
    "        df.columns = ['Temp1', 'Temp2', 'Temp3', 'Temp4', 'Temp5', 'Temp6', 'Temp7', 'Temp8', 'Temp9', 'Temp10']\n",
    "        df = shaper(df, n_time)\n",
    "        \n",
    "        df['Temp1+1'] = df['Temp1_0'].shift(-1)\n",
    "        df['Temp2+1'] = df['Temp2_0'].shift(-1)\n",
    "        df['Temp3+1'] = df['Temp3_0'].shift(-1)\n",
    "        df['Temp4+1'] = df['Temp4_0'].shift(-1)\n",
    "        df['Temp5+1'] = df['Temp5_0'].shift(-1)\n",
    "        df['Temp6+1'] = df['Temp6_0'].shift(-1)\n",
    "        df['Temp7+1'] = df['Temp7_0'].shift(-1)\n",
    "        df['Temp8+1'] = df['Temp8_0'].shift(-1)\n",
    "        df['Temp9+1'] = df['Temp9_0'].shift(-1)\n",
    "        df['Temp10+1'] = df['Temp10_0'].shift(-1)\n",
    "\n",
    "        df['Temp1+1'].fillna(24, inplace=True)\n",
    "        df['Temp2+1'].fillna(24, inplace=True)\n",
    "        df['Temp3+1'].fillna(24, inplace=True)\n",
    "        df['Temp4+1'].fillna(24, inplace=True)\n",
    "        df['Temp5+1'].fillna(24, inplace=True)\n",
    "        df['Temp6+1'].fillna(24, inplace=True)\n",
    "        df['Temp7+1'].fillna(24, inplace=True)\n",
    "        df['Temp8+1'].fillna(24, inplace=True)\n",
    "        df['Temp9+1'].fillna(24, inplace=True)\n",
    "        df['Temp10+1'].fillna(24, inplace=True)\n",
    "        frames.append(df)\n",
    "    return pd.concat(frames, ignore_index=True)"
   ]
  },
  {
   "cell_type": "code",
   "execution_count": 15,
   "metadata": {},
   "outputs": [
    {
     "data": {
      "text/html": [
       "<div>\n",
       "<style scoped>\n",
       "    .dataframe tbody tr th:only-of-type {\n",
       "        vertical-align: middle;\n",
       "    }\n",
       "\n",
       "    .dataframe tbody tr th {\n",
       "        vertical-align: top;\n",
       "    }\n",
       "\n",
       "    .dataframe thead th {\n",
       "        text-align: right;\n",
       "    }\n",
       "</style>\n",
       "<table border=\"1\" class=\"dataframe\">\n",
       "  <thead>\n",
       "    <tr style=\"text-align: right;\">\n",
       "      <th></th>\n",
       "      <th>Temp1_-3</th>\n",
       "      <th>Temp2_-3</th>\n",
       "      <th>Temp3_-3</th>\n",
       "      <th>Temp4_-3</th>\n",
       "      <th>Temp5_-3</th>\n",
       "      <th>Temp6_-3</th>\n",
       "      <th>Temp7_-3</th>\n",
       "      <th>Temp8_-3</th>\n",
       "      <th>Temp9_-3</th>\n",
       "      <th>Temp10_-3</th>\n",
       "      <th>...</th>\n",
       "      <th>Temp1+1</th>\n",
       "      <th>Temp2+1</th>\n",
       "      <th>Temp3+1</th>\n",
       "      <th>Temp4+1</th>\n",
       "      <th>Temp5+1</th>\n",
       "      <th>Temp6+1</th>\n",
       "      <th>Temp7+1</th>\n",
       "      <th>Temp8+1</th>\n",
       "      <th>Temp9+1</th>\n",
       "      <th>Temp10+1</th>\n",
       "    </tr>\n",
       "  </thead>\n",
       "  <tbody>\n",
       "    <tr>\n",
       "      <th>0</th>\n",
       "      <td>23</td>\n",
       "      <td>23</td>\n",
       "      <td>24</td>\n",
       "      <td>24</td>\n",
       "      <td>24</td>\n",
       "      <td>23</td>\n",
       "      <td>24</td>\n",
       "      <td>25</td>\n",
       "      <td>24</td>\n",
       "      <td>24</td>\n",
       "      <td>...</td>\n",
       "      <td>25.0</td>\n",
       "      <td>24.0</td>\n",
       "      <td>25.0</td>\n",
       "      <td>25.0</td>\n",
       "      <td>25.0</td>\n",
       "      <td>25.0</td>\n",
       "      <td>25.0</td>\n",
       "      <td>25.0</td>\n",
       "      <td>25.0</td>\n",
       "      <td>25.0</td>\n",
       "    </tr>\n",
       "    <tr>\n",
       "      <th>1</th>\n",
       "      <td>23</td>\n",
       "      <td>23</td>\n",
       "      <td>24</td>\n",
       "      <td>24</td>\n",
       "      <td>24</td>\n",
       "      <td>24</td>\n",
       "      <td>24</td>\n",
       "      <td>25</td>\n",
       "      <td>24</td>\n",
       "      <td>24</td>\n",
       "      <td>...</td>\n",
       "      <td>25.0</td>\n",
       "      <td>25.0</td>\n",
       "      <td>25.0</td>\n",
       "      <td>25.0</td>\n",
       "      <td>26.0</td>\n",
       "      <td>25.0</td>\n",
       "      <td>25.0</td>\n",
       "      <td>26.0</td>\n",
       "      <td>25.0</td>\n",
       "      <td>25.0</td>\n",
       "    </tr>\n",
       "    <tr>\n",
       "      <th>2</th>\n",
       "      <td>24</td>\n",
       "      <td>24</td>\n",
       "      <td>24</td>\n",
       "      <td>24</td>\n",
       "      <td>25</td>\n",
       "      <td>24</td>\n",
       "      <td>24</td>\n",
       "      <td>25</td>\n",
       "      <td>24</td>\n",
       "      <td>24</td>\n",
       "      <td>...</td>\n",
       "      <td>25.0</td>\n",
       "      <td>24.0</td>\n",
       "      <td>25.0</td>\n",
       "      <td>25.0</td>\n",
       "      <td>25.0</td>\n",
       "      <td>24.0</td>\n",
       "      <td>24.0</td>\n",
       "      <td>25.0</td>\n",
       "      <td>25.0</td>\n",
       "      <td>25.0</td>\n",
       "    </tr>\n",
       "    <tr>\n",
       "      <th>3</th>\n",
       "      <td>25</td>\n",
       "      <td>24</td>\n",
       "      <td>24</td>\n",
       "      <td>25</td>\n",
       "      <td>25</td>\n",
       "      <td>24</td>\n",
       "      <td>24</td>\n",
       "      <td>25</td>\n",
       "      <td>25</td>\n",
       "      <td>25</td>\n",
       "      <td>...</td>\n",
       "      <td>24.0</td>\n",
       "      <td>24.0</td>\n",
       "      <td>24.0</td>\n",
       "      <td>25.0</td>\n",
       "      <td>25.0</td>\n",
       "      <td>24.0</td>\n",
       "      <td>24.0</td>\n",
       "      <td>25.0</td>\n",
       "      <td>24.0</td>\n",
       "      <td>25.0</td>\n",
       "    </tr>\n",
       "    <tr>\n",
       "      <th>4</th>\n",
       "      <td>25</td>\n",
       "      <td>24</td>\n",
       "      <td>25</td>\n",
       "      <td>25</td>\n",
       "      <td>25</td>\n",
       "      <td>25</td>\n",
       "      <td>25</td>\n",
       "      <td>25</td>\n",
       "      <td>25</td>\n",
       "      <td>25</td>\n",
       "      <td>...</td>\n",
       "      <td>24.0</td>\n",
       "      <td>24.0</td>\n",
       "      <td>24.0</td>\n",
       "      <td>24.0</td>\n",
       "      <td>24.0</td>\n",
       "      <td>24.0</td>\n",
       "      <td>24.0</td>\n",
       "      <td>25.0</td>\n",
       "      <td>24.0</td>\n",
       "      <td>24.0</td>\n",
       "    </tr>\n",
       "    <tr>\n",
       "      <th>...</th>\n",
       "      <td>...</td>\n",
       "      <td>...</td>\n",
       "      <td>...</td>\n",
       "      <td>...</td>\n",
       "      <td>...</td>\n",
       "      <td>...</td>\n",
       "      <td>...</td>\n",
       "      <td>...</td>\n",
       "      <td>...</td>\n",
       "      <td>...</td>\n",
       "      <td>...</td>\n",
       "      <td>...</td>\n",
       "      <td>...</td>\n",
       "      <td>...</td>\n",
       "      <td>...</td>\n",
       "      <td>...</td>\n",
       "      <td>...</td>\n",
       "      <td>...</td>\n",
       "      <td>...</td>\n",
       "      <td>...</td>\n",
       "      <td>...</td>\n",
       "    </tr>\n",
       "    <tr>\n",
       "      <th>7895</th>\n",
       "      <td>21</td>\n",
       "      <td>20</td>\n",
       "      <td>20</td>\n",
       "      <td>21</td>\n",
       "      <td>21</td>\n",
       "      <td>20</td>\n",
       "      <td>20</td>\n",
       "      <td>21</td>\n",
       "      <td>20</td>\n",
       "      <td>21</td>\n",
       "      <td>...</td>\n",
       "      <td>21.0</td>\n",
       "      <td>20.0</td>\n",
       "      <td>20.0</td>\n",
       "      <td>20.0</td>\n",
       "      <td>21.0</td>\n",
       "      <td>20.0</td>\n",
       "      <td>20.0</td>\n",
       "      <td>21.0</td>\n",
       "      <td>20.0</td>\n",
       "      <td>20.0</td>\n",
       "    </tr>\n",
       "    <tr>\n",
       "      <th>7896</th>\n",
       "      <td>21</td>\n",
       "      <td>20</td>\n",
       "      <td>20</td>\n",
       "      <td>21</td>\n",
       "      <td>21</td>\n",
       "      <td>20</td>\n",
       "      <td>20</td>\n",
       "      <td>21</td>\n",
       "      <td>20</td>\n",
       "      <td>20</td>\n",
       "      <td>...</td>\n",
       "      <td>21.0</td>\n",
       "      <td>20.0</td>\n",
       "      <td>20.0</td>\n",
       "      <td>20.0</td>\n",
       "      <td>21.0</td>\n",
       "      <td>20.0</td>\n",
       "      <td>20.0</td>\n",
       "      <td>21.0</td>\n",
       "      <td>20.0</td>\n",
       "      <td>20.0</td>\n",
       "    </tr>\n",
       "    <tr>\n",
       "      <th>7897</th>\n",
       "      <td>21</td>\n",
       "      <td>20</td>\n",
       "      <td>20</td>\n",
       "      <td>20</td>\n",
       "      <td>21</td>\n",
       "      <td>20</td>\n",
       "      <td>20</td>\n",
       "      <td>21</td>\n",
       "      <td>20</td>\n",
       "      <td>20</td>\n",
       "      <td>...</td>\n",
       "      <td>21.0</td>\n",
       "      <td>20.0</td>\n",
       "      <td>20.0</td>\n",
       "      <td>20.0</td>\n",
       "      <td>21.0</td>\n",
       "      <td>20.0</td>\n",
       "      <td>20.0</td>\n",
       "      <td>21.0</td>\n",
       "      <td>20.0</td>\n",
       "      <td>20.0</td>\n",
       "    </tr>\n",
       "    <tr>\n",
       "      <th>7898</th>\n",
       "      <td>21</td>\n",
       "      <td>20</td>\n",
       "      <td>20</td>\n",
       "      <td>20</td>\n",
       "      <td>21</td>\n",
       "      <td>20</td>\n",
       "      <td>20</td>\n",
       "      <td>21</td>\n",
       "      <td>20</td>\n",
       "      <td>20</td>\n",
       "      <td>...</td>\n",
       "      <td>21.0</td>\n",
       "      <td>20.0</td>\n",
       "      <td>20.0</td>\n",
       "      <td>20.0</td>\n",
       "      <td>21.0</td>\n",
       "      <td>20.0</td>\n",
       "      <td>20.0</td>\n",
       "      <td>21.0</td>\n",
       "      <td>20.0</td>\n",
       "      <td>20.0</td>\n",
       "    </tr>\n",
       "    <tr>\n",
       "      <th>7899</th>\n",
       "      <td>21</td>\n",
       "      <td>20</td>\n",
       "      <td>20</td>\n",
       "      <td>20</td>\n",
       "      <td>21</td>\n",
       "      <td>20</td>\n",
       "      <td>20</td>\n",
       "      <td>21</td>\n",
       "      <td>20</td>\n",
       "      <td>20</td>\n",
       "      <td>...</td>\n",
       "      <td>24.0</td>\n",
       "      <td>24.0</td>\n",
       "      <td>24.0</td>\n",
       "      <td>24.0</td>\n",
       "      <td>24.0</td>\n",
       "      <td>24.0</td>\n",
       "      <td>24.0</td>\n",
       "      <td>24.0</td>\n",
       "      <td>24.0</td>\n",
       "      <td>24.0</td>\n",
       "    </tr>\n",
       "  </tbody>\n",
       "</table>\n",
       "<p>7900 rows × 50 columns</p>\n",
       "</div>"
      ],
      "text/plain": [
       "      Temp1_-3  Temp2_-3  Temp3_-3  Temp4_-3  Temp5_-3  Temp6_-3  Temp7_-3  \\\n",
       "0           23        23        24        24        24        23        24   \n",
       "1           23        23        24        24        24        24        24   \n",
       "2           24        24        24        24        25        24        24   \n",
       "3           25        24        24        25        25        24        24   \n",
       "4           25        24        25        25        25        25        25   \n",
       "...        ...       ...       ...       ...       ...       ...       ...   \n",
       "7895        21        20        20        21        21        20        20   \n",
       "7896        21        20        20        21        21        20        20   \n",
       "7897        21        20        20        20        21        20        20   \n",
       "7898        21        20        20        20        21        20        20   \n",
       "7899        21        20        20        20        21        20        20   \n",
       "\n",
       "      Temp8_-3  Temp9_-3  Temp10_-3  ...  Temp1+1  Temp2+1  Temp3+1  Temp4+1  \\\n",
       "0           25        24         24  ...     25.0     24.0     25.0     25.0   \n",
       "1           25        24         24  ...     25.0     25.0     25.0     25.0   \n",
       "2           25        24         24  ...     25.0     24.0     25.0     25.0   \n",
       "3           25        25         25  ...     24.0     24.0     24.0     25.0   \n",
       "4           25        25         25  ...     24.0     24.0     24.0     24.0   \n",
       "...        ...       ...        ...  ...      ...      ...      ...      ...   \n",
       "7895        21        20         21  ...     21.0     20.0     20.0     20.0   \n",
       "7896        21        20         20  ...     21.0     20.0     20.0     20.0   \n",
       "7897        21        20         20  ...     21.0     20.0     20.0     20.0   \n",
       "7898        21        20         20  ...     21.0     20.0     20.0     20.0   \n",
       "7899        21        20         20  ...     24.0     24.0     24.0     24.0   \n",
       "\n",
       "      Temp5+1  Temp6+1  Temp7+1  Temp8+1  Temp9+1  Temp10+1  \n",
       "0        25.0     25.0     25.0     25.0     25.0      25.0  \n",
       "1        26.0     25.0     25.0     26.0     25.0      25.0  \n",
       "2        25.0     24.0     24.0     25.0     25.0      25.0  \n",
       "3        25.0     24.0     24.0     25.0     24.0      25.0  \n",
       "4        24.0     24.0     24.0     25.0     24.0      24.0  \n",
       "...       ...      ...      ...      ...      ...       ...  \n",
       "7895     21.0     20.0     20.0     21.0     20.0      20.0  \n",
       "7896     21.0     20.0     20.0     21.0     20.0      20.0  \n",
       "7897     21.0     20.0     20.0     21.0     20.0      20.0  \n",
       "7898     21.0     20.0     20.0     21.0     20.0      20.0  \n",
       "7899     24.0     24.0     24.0     24.0     24.0      24.0  \n",
       "\n",
       "[7900 rows x 50 columns]"
      ]
     },
     "execution_count": 15,
     "metadata": {},
     "output_type": "execute_result"
    }
   ],
   "source": [
    "N_TIME = 4\n",
    "df = union_shaper([df1], N_TIME)\n",
    "df"
   ]
  },
  {
   "cell_type": "raw",
   "metadata": {},
   "source": [
    "df['Temp1+1'] = df['Temp1_0'].shift(-1)\n",
    "df['Temp2+1'] = df['Temp2_0'].shift(-1)\n",
    "df['Temp3+1'] = df['Temp3_0'].shift(-1)\n",
    "df['Temp4+1'] = df['Temp4_0'].shift(-1)\n",
    "df['Temp5+1'] = df['Temp5_0'].shift(-1)\n",
    "df['Temp6+1'] = df['Temp6_0'].shift(-1)\n",
    "df['Temp7+1'] = df['Temp7_0'].shift(-1)\n",
    "df['Temp8+1'] = df['Temp8_0'].shift(-1)\n",
    "df['Temp9+1'] = df['Temp9_0'].shift(-1)\n",
    "df['Temp10+1'] = df['Temp10_0'].shift(-1)\n",
    "\n",
    "df['Temp1+1'].fillna(24, inplace=True)\n",
    "df['Temp2+1'].fillna(24, inplace=True)\n",
    "df['Temp3+1'].fillna(24, inplace=True)\n",
    "df['Temp4+1'].fillna(24, inplace=True)\n",
    "df['Temp5+1'].fillna(24, inplace=True)\n",
    "df['Temp6+1'].fillna(24, inplace=True)\n",
    "df['Temp7+1'].fillna(24, inplace=True)\n",
    "df['Temp8+1'].fillna(24, inplace=True)\n",
    "df['Temp9+1'].fillna(24, inplace=True)\n",
    "df['Temp10+1'].fillna(24, inplace=True)"
   ]
  },
  {
   "cell_type": "code",
   "execution_count": 16,
   "metadata": {},
   "outputs": [
    {
     "name": "stdout",
     "output_type": "stream",
     "text": [
      "MinMaxScaler(copy=True, feature_range=(0, 1))\n",
      "MinMaxScaler(copy=True, feature_range=(0, 1))\n"
     ]
    }
   ],
   "source": [
    "x = df.drop(['Temp1+1', 'Temp2+1', 'Temp3+1', 'Temp4+1', 'Temp5+1', 'Temp6+1', 'Temp7+1', 'Temp8+1', 'Temp9+1', 'Temp10+1'], axis = 1)\n",
    "y = df[['Temp1+1', 'Temp2+1', 'Temp3+1', 'Temp4+1', 'Temp5+1', 'Temp6+1', 'Temp7+1', 'Temp8+1', 'Temp9+1', 'Temp10+1']]\n",
    "\n",
    "y=np.reshape(y.values, (-1,10))\n",
    "\n",
    "scaler_x = MinMaxScaler()\n",
    "print(scaler_x.fit(x))\n",
    "scaler_y = MinMaxScaler()\n",
    "print(scaler_y.fit(y))"
   ]
  },
  {
   "cell_type": "markdown",
   "metadata": {},
   "source": [
    "# Variants"
   ]
  },
  {
   "cell_type": "code",
   "execution_count": 17,
   "metadata": {},
   "outputs": [],
   "source": [
    "X_train = scaler_x.transform(x)\n",
    "y_train = scaler_y.transform(y)\n",
    "\n",
    "X_train, X_test, y_train, y_test = train_test_split(X_train, y_train, test_size = 0.2)"
   ]
  },
  {
   "cell_type": "raw",
   "metadata": {},
   "source": [
    "X_test = scaler_x.transform(x[87:100])\n",
    "y_test = scaler_y.transform(y[87:100])"
   ]
  },
  {
   "cell_type": "markdown",
   "metadata": {},
   "source": [
    "xscale=scaler_x.transform(x)\n",
    "yscale=scaler_y.transform(y)\n",
    "\n",
    "X_train, X_test, y_train, y_test = train_test_split(xscale, yscale, train_size = 1)"
   ]
  },
  {
   "cell_type": "markdown",
   "metadata": {},
   "source": [
    "# Neural Link"
   ]
  },
  {
   "cell_type": "code",
   "execution_count": 29,
   "metadata": {
    "scrolled": true
   },
   "outputs": [
    {
     "name": "stdout",
     "output_type": "stream",
     "text": [
      "Model: \"sequential_9\"\n",
      "_________________________________________________________________\n",
      "Layer (type)                 Output Shape              Param #   \n",
      "=================================================================\n",
      "dense_27 (Dense)             (None, 128)               5248      \n",
      "_________________________________________________________________\n",
      "dense_28 (Dense)             (None, 256)               33024     \n",
      "_________________________________________________________________\n",
      "dense_29 (Dense)             (None, 10)                2570      \n",
      "=================================================================\n",
      "Total params: 40,842\n",
      "Trainable params: 40,842\n",
      "Non-trainable params: 0\n",
      "_________________________________________________________________\n",
      "Epoch 1/100\n",
      "99/99 [==============================] - 0s 2ms/step - loss: 52.6951 - accuracy: 0.3301 - val_loss: 158.4747 - val_accuracy: 0.4117\n",
      "Epoch 2/100\n",
      "99/99 [==============================] - 0s 2ms/step - loss: 184.5490 - accuracy: 0.2769 - val_loss: 144.4887 - val_accuracy: 0.0111\n",
      "Epoch 3/100\n",
      "99/99 [==============================] - 0s 2ms/step - loss: 232.1500 - accuracy: 0.1222 - val_loss: 264.2451 - val_accuracy: 0.0070\n",
      "Epoch 4/100\n",
      "99/99 [==============================] - 0s 2ms/step - loss: 410.1994 - accuracy: 0.1241 - val_loss: 569.7773 - val_accuracy: 0.1294\n",
      "Epoch 5/100\n",
      "99/99 [==============================] - 0s 2ms/step - loss: 838.1157 - accuracy: 0.1120 - val_loss: 851.8907 - val_accuracy: 3.1646e-04\n",
      "Epoch 6/100\n",
      "99/99 [==============================] - 0s 2ms/step - loss: 1184.8717 - accuracy: 0.1174 - val_loss: 1192.7529 - val_accuracy: 3.1646e-04\n",
      "Epoch 7/100\n",
      "99/99 [==============================] - 0s 2ms/step - loss: 1738.0071 - accuracy: 0.1120 - val_loss: 1568.8177 - val_accuracy: 0.0218\n",
      "Epoch 8/100\n",
      "99/99 [==============================] - 0s 2ms/step - loss: 2493.2761 - accuracy: 0.1139 - val_loss: 2762.9651 - val_accuracy: 0.0070\n",
      "Epoch 9/100\n",
      "99/99 [==============================] - 0s 2ms/step - loss: 2758.4836 - accuracy: 0.1142 - val_loss: 2509.8635 - val_accuracy: 0.0218\n",
      "Epoch 10/100\n",
      "99/99 [==============================] - 0s 2ms/step - loss: 2990.4058 - accuracy: 0.1177 - val_loss: 2880.7861 - val_accuracy: 0.1294\n",
      "Epoch 11/100\n",
      "99/99 [==============================] - 0s 2ms/step - loss: 4874.8901 - accuracy: 0.1133 - val_loss: 2770.5281 - val_accuracy: 0.0111\n",
      "Epoch 12/100\n",
      "99/99 [==============================] - 0s 2ms/step - loss: 4007.1343 - accuracy: 0.1177 - val_loss: 5105.7759 - val_accuracy: 0.4117\n",
      "Epoch 13/100\n",
      "99/99 [==============================] - 0s 2ms/step - loss: 5397.0728 - accuracy: 0.1209 - val_loss: 4724.8350 - val_accuracy: 3.1646e-04\n",
      "Epoch 14/100\n",
      "99/99 [==============================] - 0s 2ms/step - loss: 6341.3091 - accuracy: 0.1082 - val_loss: 5155.5713 - val_accuracy: 0.0104\n",
      "Epoch 15/100\n",
      "99/99 [==============================] - 0s 2ms/step - loss: 5892.1274 - accuracy: 0.1193 - val_loss: 7809.1855 - val_accuracy: 0.0111\n",
      "Epoch 16/100\n",
      "99/99 [==============================] - 0s 2ms/step - loss: 7159.8271 - accuracy: 0.1139 - val_loss: 6477.3403 - val_accuracy: 0.0111\n",
      "Epoch 17/100\n",
      "99/99 [==============================] - 0s 2ms/step - loss: 7944.9121 - accuracy: 0.1142 - val_loss: 7609.1567 - val_accuracy: 0.0070\n",
      "Epoch 18/100\n",
      "99/99 [==============================] - 0s 2ms/step - loss: 8766.7002 - accuracy: 0.1089 - val_loss: 10990.1523 - val_accuracy: 0.1294\n",
      "Epoch 19/100\n",
      "99/99 [==============================] - 0s 2ms/step - loss: 10878.1787 - accuracy: 0.1177 - val_loss: 13828.2793 - val_accuracy: 3.1646e-04\n",
      "Epoch 20/100\n",
      "99/99 [==============================] - 0s 2ms/step - loss: 11075.0977 - accuracy: 0.1149 - val_loss: 12474.8662 - val_accuracy: 3.1646e-04\n",
      "Epoch 21/100\n",
      "99/99 [==============================] - 0s 2ms/step - loss: 12688.4404 - accuracy: 0.1127 - val_loss: 20273.1738 - val_accuracy: 0.4076\n",
      "Epoch 22/100\n",
      "99/99 [==============================] - 0s 2ms/step - loss: 11941.4521 - accuracy: 0.1133 - val_loss: 18048.7363 - val_accuracy: 0.4117\n",
      "Epoch 23/100\n",
      "99/99 [==============================] - 0s 2ms/step - loss: 12480.6787 - accuracy: 0.1101 - val_loss: 6961.4688 - val_accuracy: 0.1294\n",
      "Epoch 24/100\n",
      "99/99 [==============================] - 0s 2ms/step - loss: 15373.9600 - accuracy: 0.1231 - val_loss: 16391.4355 - val_accuracy: 0.0111\n",
      "Epoch 25/100\n",
      "99/99 [==============================] - 0s 2ms/step - loss: 12894.2705 - accuracy: 0.1149 - val_loss: 11367.2725 - val_accuracy: 0.0070\n",
      "Epoch 26/100\n",
      "99/99 [==============================] - 0s 2ms/step - loss: 17823.1621 - accuracy: 0.1044 - val_loss: 21082.2715 - val_accuracy: 0.0000e+00\n",
      "Epoch 27/100\n",
      "99/99 [==============================] - 0s 2ms/step - loss: 19084.6797 - accuracy: 0.1275 - val_loss: 18806.1504 - val_accuracy: 0.0104\n",
      "Epoch 28/100\n",
      "99/99 [==============================] - 0s 2ms/step - loss: 19298.2559 - accuracy: 0.1272 - val_loss: 24513.9648 - val_accuracy: 0.0218\n",
      "Epoch 29/100\n",
      "99/99 [==============================] - 0s 2ms/step - loss: 20589.4160 - accuracy: 0.1149 - val_loss: 20806.5391 - val_accuracy: 0.4117\n",
      "Epoch 30/100\n",
      "99/99 [==============================] - 0s 2ms/step - loss: 21437.2734 - accuracy: 0.1259 - val_loss: 14426.3379 - val_accuracy: 0.0104\n",
      "Epoch 31/100\n",
      "99/99 [==============================] - 0s 2ms/step - loss: 16385.7305 - accuracy: 0.1171 - val_loss: 19196.4473 - val_accuracy: 0.4117\n",
      "Epoch 32/100\n",
      "99/99 [==============================] - 0s 2ms/step - loss: 20656.8223 - accuracy: 0.1250 - val_loss: 17299.0332 - val_accuracy: 0.0218\n",
      "Epoch 33/100\n",
      "99/99 [==============================] - 0s 2ms/step - loss: 20515.3730 - accuracy: 0.1282 - val_loss: 26690.5020 - val_accuracy: 0.0104\n",
      "Epoch 34/100\n",
      "99/99 [==============================] - 0s 2ms/step - loss: 26343.9902 - accuracy: 0.1228 - val_loss: 34766.2305 - val_accuracy: 0.0111\n",
      "Epoch 35/100\n",
      "99/99 [==============================] - 0s 2ms/step - loss: 25439.8359 - accuracy: 0.1079 - val_loss: 22604.9082 - val_accuracy: 0.0111\n",
      "Epoch 36/100\n",
      "99/99 [==============================] - 0s 2ms/step - loss: 23772.5098 - accuracy: 0.1237 - val_loss: 18317.9629 - val_accuracy: 0.4117\n",
      "Epoch 37/100\n",
      "99/99 [==============================] - 0s 2ms/step - loss: 30380.9590 - accuracy: 0.1092 - val_loss: 40640.0234 - val_accuracy: 0.0218\n",
      "Epoch 38/100\n",
      "99/99 [==============================] - 0s 2ms/step - loss: 37326.2070 - accuracy: 0.1218 - val_loss: 36244.7500 - val_accuracy: 0.3484\n",
      "Epoch 39/100\n",
      "99/99 [==============================] - 0s 2ms/step - loss: 30673.0098 - accuracy: 0.1174 - val_loss: 33478.6602 - val_accuracy: 0.4117\n",
      "Epoch 40/100\n",
      "99/99 [==============================] - 0s 2ms/step - loss: 34573.1289 - accuracy: 0.1180 - val_loss: 25740.5039 - val_accuracy: 6.3291e-04\n",
      "Epoch 41/100\n",
      "99/99 [==============================] - 0s 2ms/step - loss: 37800.1133 - accuracy: 0.1142 - val_loss: 40378.0039 - val_accuracy: 0.0000e+00\n",
      "Epoch 42/100\n",
      "99/99 [==============================] - 0s 2ms/step - loss: 32825.1250 - accuracy: 0.1215 - val_loss: 27054.4277 - val_accuracy: 0.0070\n",
      "Epoch 43/100\n",
      "99/99 [==============================] - 0s 2ms/step - loss: 33877.8594 - accuracy: 0.1142 - val_loss: 33327.5508 - val_accuracy: 0.0104\n",
      "Epoch 44/100\n",
      "99/99 [==============================] - 0s 2ms/step - loss: 37815.5898 - accuracy: 0.1155 - val_loss: 39910.2891 - val_accuracy: 0.0218\n",
      "Epoch 45/100\n",
      "99/99 [==============================] - 0s 2ms/step - loss: 33589.2188 - accuracy: 0.1184 - val_loss: 39745.1445 - val_accuracy: 0.0089\n",
      "Epoch 46/100\n",
      "99/99 [==============================] - 0s 2ms/step - loss: 42710.6875 - accuracy: 0.1149 - val_loss: 48753.0625 - val_accuracy: 0.4117\n",
      "Epoch 47/100\n",
      "99/99 [==============================] - 0s 2ms/step - loss: 37132.5586 - accuracy: 0.1139 - val_loss: 29626.2207 - val_accuracy: 0.0070\n",
      "Epoch 48/100\n",
      "99/99 [==============================] - 0s 2ms/step - loss: 40958.6289 - accuracy: 0.1193 - val_loss: 41963.7305 - val_accuracy: 6.3291e-04\n",
      "Epoch 49/100\n",
      "99/99 [==============================] - 0s 2ms/step - loss: 45781.9453 - accuracy: 0.1196 - val_loss: 35530.8594 - val_accuracy: 0.4076\n",
      "Epoch 50/100\n",
      "99/99 [==============================] - 0s 2ms/step - loss: 39906.1562 - accuracy: 0.1222 - val_loss: 22287.4121 - val_accuracy: 0.4117\n"
     ]
    },
    {
     "name": "stdout",
     "output_type": "stream",
     "text": [
      "Epoch 51/100\n",
      "99/99 [==============================] - 0s 2ms/step - loss: 39749.2148 - accuracy: 0.1152 - val_loss: 27162.1523 - val_accuracy: 3.1646e-04\n",
      "Epoch 52/100\n",
      "99/99 [==============================] - 0s 2ms/step - loss: 47671.6602 - accuracy: 0.1161 - val_loss: 53316.9336 - val_accuracy: 0.4117\n",
      "Epoch 53/100\n",
      "99/99 [==============================] - 0s 2ms/step - loss: 49913.8516 - accuracy: 0.1193 - val_loss: 44113.1250 - val_accuracy: 0.0070\n",
      "Epoch 54/100\n",
      "99/99 [==============================] - 0s 2ms/step - loss: 46804.8008 - accuracy: 0.1155 - val_loss: 61370.4570 - val_accuracy: 0.0070\n",
      "Epoch 55/100\n",
      "99/99 [==============================] - 0s 2ms/step - loss: 41234.2852 - accuracy: 0.1190 - val_loss: 38344.1016 - val_accuracy: 0.0218\n",
      "Epoch 56/100\n",
      "99/99 [==============================] - 0s 2ms/step - loss: 42784.5664 - accuracy: 0.1282 - val_loss: 50512.0352 - val_accuracy: 0.1294\n",
      "Epoch 57/100\n",
      "99/99 [==============================] - 0s 2ms/step - loss: 49714.0820 - accuracy: 0.1320 - val_loss: 42678.2266 - val_accuracy: 0.0111\n",
      "Epoch 58/100\n",
      "99/99 [==============================] - 0s 2ms/step - loss: 50996.6133 - accuracy: 0.1177 - val_loss: 45168.6641 - val_accuracy: 0.4076\n",
      "Epoch 59/100\n",
      "99/99 [==============================] - 0s 2ms/step - loss: 48117.2461 - accuracy: 0.1237 - val_loss: 46299.5156 - val_accuracy: 3.1646e-04\n",
      "Epoch 60/100\n",
      "99/99 [==============================] - 0s 2ms/step - loss: 61334.7891 - accuracy: 0.1196 - val_loss: 33312.0000 - val_accuracy: 3.1646e-04\n",
      "Epoch 61/100\n",
      "99/99 [==============================] - 0s 2ms/step - loss: 51914.3867 - accuracy: 0.1237 - val_loss: 72743.4297 - val_accuracy: 0.0218\n",
      "Epoch 62/100\n",
      "99/99 [==============================] - 0s 2ms/step - loss: 63227.7266 - accuracy: 0.1177 - val_loss: 76063.0312 - val_accuracy: 0.0218\n",
      "Epoch 63/100\n",
      "99/99 [==============================] - 0s 2ms/step - loss: 67859.4609 - accuracy: 0.1108 - val_loss: 64820.1484 - val_accuracy: 0.0070\n",
      "Epoch 64/100\n",
      "99/99 [==============================] - 0s 2ms/step - loss: 52469.5039 - accuracy: 0.1108 - val_loss: 29119.0176 - val_accuracy: 0.1294\n",
      "Epoch 65/100\n",
      "99/99 [==============================] - 0s 2ms/step - loss: 60688.7031 - accuracy: 0.1275 - val_loss: 70549.3047 - val_accuracy: 0.1294\n",
      "Epoch 66/100\n",
      "99/99 [==============================] - 0s 2ms/step - loss: 65387.6367 - accuracy: 0.1190 - val_loss: 22797.5781 - val_accuracy: 0.1304\n",
      "Epoch 67/100\n",
      "99/99 [==============================] - 0s 2ms/step - loss: 67679.7812 - accuracy: 0.1259 - val_loss: 57516.5156 - val_accuracy: 0.1294\n",
      "Epoch 68/100\n",
      "99/99 [==============================] - 0s 2ms/step - loss: 59024.8242 - accuracy: 0.1307 - val_loss: 32472.1699 - val_accuracy: 0.0111\n",
      "Epoch 69/100\n",
      "99/99 [==============================] - 0s 2ms/step - loss: 58054.3398 - accuracy: 0.1297 - val_loss: 69981.3906 - val_accuracy: 0.0104\n",
      "Epoch 70/100\n",
      "99/99 [==============================] - 0s 2ms/step - loss: 55870.8828 - accuracy: 0.1152 - val_loss: 51569.1094 - val_accuracy: 0.4117\n",
      "Epoch 71/100\n",
      "99/99 [==============================] - 0s 2ms/step - loss: 62171.2148 - accuracy: 0.1228 - val_loss: 41439.9375 - val_accuracy: 0.0111\n",
      "Epoch 72/100\n",
      "99/99 [==============================] - 0s 2ms/step - loss: 65562.3359 - accuracy: 0.1184 - val_loss: 76491.9141 - val_accuracy: 0.0111\n",
      "Epoch 73/100\n",
      "99/99 [==============================] - 0s 2ms/step - loss: 60557.6250 - accuracy: 0.1120 - val_loss: 81959.1875 - val_accuracy: 0.1294\n",
      "Epoch 74/100\n",
      "99/99 [==============================] - 0s 2ms/step - loss: 72410.6328 - accuracy: 0.1247 - val_loss: 103131.1016 - val_accuracy: 3.1646e-04\n",
      "Epoch 75/100\n",
      "99/99 [==============================] - 0s 2ms/step - loss: 74216.0234 - accuracy: 0.1127 - val_loss: 69486.7656 - val_accuracy: 0.4117\n",
      "Epoch 76/100\n",
      "99/99 [==============================] - 0s 2ms/step - loss: 74932.5391 - accuracy: 0.1209 - val_loss: 92050.4219 - val_accuracy: 6.3291e-04\n",
      "Epoch 77/100\n",
      "99/99 [==============================] - 0s 2ms/step - loss: 90297.1875 - accuracy: 0.1237 - val_loss: 73265.5312 - val_accuracy: 0.0218\n",
      "Epoch 78/100\n",
      "99/99 [==============================] - 0s 2ms/step - loss: 81765.5781 - accuracy: 0.1155 - val_loss: 64431.6250 - val_accuracy: 3.1646e-04\n",
      "Epoch 79/100\n",
      "99/99 [==============================] - 0s 2ms/step - loss: 64330.3125 - accuracy: 0.1130 - val_loss: 80222.7578 - val_accuracy: 0.0104\n",
      "Epoch 80/100\n",
      "99/99 [==============================] - 0s 2ms/step - loss: 78458.3906 - accuracy: 0.1263 - val_loss: 65805.3438 - val_accuracy: 0.0104\n",
      "Epoch 81/100\n",
      "99/99 [==============================] - 0s 2ms/step - loss: 77122.8594 - accuracy: 0.1070 - val_loss: 139003.7812 - val_accuracy: 0.4117\n",
      "Epoch 82/100\n",
      "99/99 [==============================] - 0s 2ms/step - loss: 90964.7422 - accuracy: 0.1247 - val_loss: 89282.5391 - val_accuracy: 0.1968\n",
      "Epoch 83/100\n",
      "99/99 [==============================] - 0s 2ms/step - loss: 91511.4531 - accuracy: 0.1237 - val_loss: 80244.6719 - val_accuracy: 0.4117\n",
      "Epoch 84/100\n",
      "99/99 [==============================] - 0s 2ms/step - loss: 98432.4141 - accuracy: 0.1184 - val_loss: 111250.4297 - val_accuracy: 0.0000e+00\n",
      "Epoch 85/100\n",
      "99/99 [==============================] - 0s 2ms/step - loss: 112042.3125 - accuracy: 0.1228 - val_loss: 138758.9219 - val_accuracy: 0.0104\n",
      "Epoch 86/100\n",
      "99/99 [==============================] - 0s 2ms/step - loss: 103142.4531 - accuracy: 0.1165 - val_loss: 124194.8359 - val_accuracy: 0.0218\n",
      "Epoch 87/100\n",
      "99/99 [==============================] - 0s 2ms/step - loss: 93364.7500 - accuracy: 0.1038 - val_loss: 103048.1953 - val_accuracy: 0.4117\n",
      "Epoch 88/100\n",
      "99/99 [==============================] - 0s 2ms/step - loss: 87944.9609 - accuracy: 0.1301 - val_loss: 118113.1562 - val_accuracy: 0.0070\n",
      "Epoch 89/100\n",
      "99/99 [==============================] - 0s 2ms/step - loss: 108451.1719 - accuracy: 0.1108 - val_loss: 82318.6797 - val_accuracy: 0.4076\n",
      "Epoch 90/100\n",
      "99/99 [==============================] - 0s 2ms/step - loss: 95372.1797 - accuracy: 0.1203 - val_loss: 169418.4375 - val_accuracy: 0.0111\n",
      "Epoch 91/100\n",
      "99/99 [==============================] - 0s 2ms/step - loss: 113742.5938 - accuracy: 0.1130 - val_loss: 76629.3750 - val_accuracy: 0.4076\n",
      "Epoch 92/100\n",
      "99/99 [==============================] - 0s 2ms/step - loss: 98632.8125 - accuracy: 0.1310 - val_loss: 93677.2266 - val_accuracy: 0.0000e+00\n",
      "Epoch 93/100\n",
      "99/99 [==============================] - 0s 2ms/step - loss: 115834.6016 - accuracy: 0.1120 - val_loss: 89648.2812 - val_accuracy: 0.0104\n",
      "Epoch 94/100\n",
      "99/99 [==============================] - 0s 2ms/step - loss: 98788.4375 - accuracy: 0.1165 - val_loss: 104091.7266 - val_accuracy: 0.0070\n",
      "Epoch 95/100\n",
      "99/99 [==============================] - 0s 2ms/step - loss: 98089.2188 - accuracy: 0.1212 - val_loss: 105491.9531 - val_accuracy: 0.4076\n",
      "Epoch 96/100\n",
      "99/99 [==============================] - 0s 2ms/step - loss: 113051.3438 - accuracy: 0.1215 - val_loss: 85331.6250 - val_accuracy: 0.0104\n",
      "Epoch 97/100\n",
      "99/99 [==============================] - 0s 2ms/step - loss: 112092.2344 - accuracy: 0.1120 - val_loss: 90188.0000 - val_accuracy: 0.0415\n",
      "Epoch 98/100\n",
      "99/99 [==============================] - 0s 2ms/step - loss: 106260.8828 - accuracy: 0.1272 - val_loss: 123698.0547 - val_accuracy: 0.0070\n",
      "Epoch 99/100\n",
      "99/99 [==============================] - 0s 2ms/step - loss: 123518.8281 - accuracy: 0.1101 - val_loss: 98329.0625 - val_accuracy: 0.0111\n",
      "Epoch 100/100\n",
      "99/99 [==============================] - 0s 2ms/step - loss: 113224.2656 - accuracy: 0.1225 - val_loss: 86488.0625 - val_accuracy: 0.4076\n"
     ]
    }
   ],
   "source": [
    "model = Sequential()\n",
    "model.add(Dense(128, input_dim=10 * N_TIME, kernel_initializer='uniform', activation='relu'))\n",
    "model.add(Dense(256))\n",
    "model.add(Dense(10, activation='softmax'))\n",
    "model.summary()\n",
    "# Use a custom metricfunction\n",
    "\n",
    "model.compile(loss='categorical_crossentropy', optimizer='adam', metrics=[\"accuracy\"])\n",
    "\n",
    "fit = model.fit(X_train, y_train, epochs=100,  verbose=1, validation_split=0.5)"
   ]
  },
  {
   "cell_type": "code",
   "execution_count": 30,
   "metadata": {},
   "outputs": [
    {
     "name": "stdout",
     "output_type": "stream",
     "text": [
      "50/50 [==============================] - 0s 839us/step - loss: 84745.9062 - accuracy: 0.4108\n",
      "Доля верных ответов на тестовых данных, в процентах: 41.0759\n"
     ]
    }
   ],
   "source": [
    "scores = model.evaluate(X_test, y_test, verbose=1)\n",
    "print(\"Доля верных ответов на тестовых данных, в процентах:\", round(scores[1] * 100, 4))"
   ]
  },
  {
   "cell_type": "code",
   "execution_count": 31,
   "metadata": {},
   "outputs": [],
   "source": [
    "def pred_plot(x, y, p, index):\n",
    "    mpl.rcParams['figure.figsize'] = (4, 3)\n",
    "    mpl.rcParams['axes.grid'] = False\n",
    "    \n",
    "    history = np.transpose(np.reshape(x[index], (-1, 10)))\n",
    "    \n",
    "    length = history.shape[1]\n",
    "    #np.reshape(X, (-1, 10))[-1].tolist()\n",
    "    \n",
    "    real = np.transpose(np.array(y[index]))\n",
    "    \n",
    "    pred = np.transpose(np.array(p[index]))\n",
    "    \n",
    "    for i in range(10):\n",
    "        percent = (history[i].max() - history[i].min())\n",
    "        result = (percent-abs(real[i] - pred[i]))/percent\n",
    "        \n",
    "        plt.plot(range(length), history[i], label='History')\n",
    "        plt.plot(length, real[i], 'bo', label='Real')\n",
    "        plt.plot(length, pred[i], 'rx', label='Predicted')\n",
    "        plt.xlabel('Time')\n",
    "        plt.ylabel('Temperature value')\n",
    "        plt.legend(loc='upper left')\n",
    "        plt.title('index: ' + str(index) + ', temp: ' + str(i+1) + '\\npercent: ' + str(result*100))\n",
    "        plt.show()  "
   ]
  },
  {
   "cell_type": "code",
   "execution_count": 32,
   "metadata": {},
   "outputs": [
    {
     "data": {
      "text/plain": [
       "array([[26., 26., 26., 26., 27., 26., 26., 27., 26., 26., 27., 26., 26.,\n",
       "        26., 27., 26., 26., 27., 27., 27., 27., 26., 26., 26., 27., 26.,\n",
       "        26., 27., 27., 27., 26., 26., 26., 26., 27., 26., 26., 27., 27.,\n",
       "        27.],\n",
       "       [27., 27., 27., 27., 27., 27., 27., 28., 27., 27., 27., 27., 27.,\n",
       "        27., 27., 27., 27., 28., 27., 27., 27., 27., 27., 27., 27., 26.,\n",
       "        27., 27., 27., 27., 27., 26., 27., 27., 27., 26., 27., 27., 27.,\n",
       "        27.]])"
      ]
     },
     "execution_count": 32,
     "metadata": {},
     "output_type": "execute_result"
    }
   ],
   "source": [
    "scaler_x.inverse_transform(X_test[:2])"
   ]
  },
  {
   "cell_type": "code",
   "execution_count": 33,
   "metadata": {
    "scrolled": false
   },
   "outputs": [
    {
     "data": {
      "image/png": "[encoded data removed]",
      "text/plain": [
       "<Figure size 288x216 with 1 Axes>"
      ]
     },
     "metadata": {
      "needs_background": "light"
     },
     "output_type": "display_data"
    },
    {
     "name": "stderr",
     "output_type": "stream",
     "text": [
      "c:\\users\\zhastay\\appdata\\local\\programs\\python\\python36\\lib\\site-packages\\ipykernel_launcher.py:16: RuntimeWarning: divide by zero encountered in double_scalars\n",
      "  app.launch_new_instance()\n"
     ]
    },
    {
     "data": {
      "image/png": "[encoded data removed]",
      "text/plain": [
       "<Figure size 288x216 with 1 Axes>"
      ]
     },
     "metadata": {
      "needs_background": "light"
     },
     "output_type": "display_data"
    },
    {
     "name": "stderr",
     "output_type": "stream",
     "text": [
      "c:\\users\\zhastay\\appdata\\local\\programs\\python\\python36\\lib\\site-packages\\ipykernel_launcher.py:16: RuntimeWarning: divide by zero encountered in double_scalars\n",
      "  app.launch_new_instance()\n"
     ]
    },
    {
     "data": {
      "image/png": "[encoded data removed]",
      "text/plain": [
       "<Figure size 288x216 with 1 Axes>"
      ]
     },
     "metadata": {
      "needs_background": "light"
     },
     "output_type": "display_data"
    },
    {
     "name": "stderr",
     "output_type": "stream",
     "text": [
      "c:\\users\\zhastay\\appdata\\local\\programs\\python\\python36\\lib\\site-packages\\ipykernel_launcher.py:16: RuntimeWarning: divide by zero encountered in double_scalars\n",
      "  app.launch_new_instance()\n"
     ]
    },
    {
     "data": {
      "image/png": "[encoded data removed]",
      "text/plain": [
       "<Figure size 288x216 with 1 Axes>"
      ]
     },
     "metadata": {
      "needs_background": "light"
     },
     "output_type": "display_data"
    },
    {
     "name": "stderr",
     "output_type": "stream",
     "text": [
      "c:\\users\\zhastay\\appdata\\local\\programs\\python\\python36\\lib\\site-packages\\ipykernel_launcher.py:16: RuntimeWarning: divide by zero encountered in double_scalars\n",
      "  app.launch_new_instance()\n"
     ]
    },
    {
     "data": {
      "image/png": "[encoded data removed]",
      "text/plain": [
       "<Figure size 288x216 with 1 Axes>"
      ]
     },
     "metadata": {
      "needs_background": "light"
     },
     "output_type": "display_data"
    },
    {
     "name": "stderr",
     "output_type": "stream",
     "text": [
      "c:\\users\\zhastay\\appdata\\local\\programs\\python\\python36\\lib\\site-packages\\ipykernel_launcher.py:16: RuntimeWarning: divide by zero encountered in double_scalars\n",
      "  app.launch_new_instance()\n"
     ]
    },
    {
     "data": {
      "image/png": "[encoded data removed]",
      "text/plain": [
       "<Figure size 288x216 with 1 Axes>"
      ]
     },
     "metadata": {
      "needs_background": "light"
     },
     "output_type": "display_data"
    },
    {
     "name": "stderr",
     "output_type": "stream",
     "text": [
      "c:\\users\\zhastay\\appdata\\local\\programs\\python\\python36\\lib\\site-packages\\ipykernel_launcher.py:16: RuntimeWarning: divide by zero encountered in double_scalars\n",
      "  app.launch_new_instance()\n"
     ]
    },
    {
     "data": {
      "image/png": "[encoded data removed]",
      "text/plain": [
       "<Figure size 288x216 with 1 Axes>"
      ]
     },
     "metadata": {
      "needs_background": "light"
     },
     "output_type": "display_data"
    },
    {
     "name": "stderr",
     "output_type": "stream",
     "text": [
      "c:\\users\\zhastay\\appdata\\local\\programs\\python\\python36\\lib\\site-packages\\ipykernel_launcher.py:16: RuntimeWarning: divide by zero encountered in double_scalars\n",
      "  app.launch_new_instance()\n"
     ]
    },
    {
     "data": {
      "image/png": "[encoded data removed]",
      "text/plain": [
       "<Figure size 288x216 with 1 Axes>"
      ]
     },
     "metadata": {
      "needs_background": "light"
     },
     "output_type": "display_data"
    },
    {
     "data": {
      "image/png": "[encoded data removed]",
      "text/plain": [
       "<Figure size 288x216 with 1 Axes>"
      ]
     },
     "metadata": {
      "needs_background": "light"
     },
     "output_type": "display_data"
    },
    {
     "data": {
      "image/png": "[encoded data removed]",
      "text/plain": [
       "<Figure size 288x216 with 1 Axes>"
      ]
     },
     "metadata": {
      "needs_background": "light"
     },
     "output_type": "display_data"
    },
    {
     "name": "stderr",
     "output_type": "stream",
     "text": [
      "c:\\users\\zhastay\\appdata\\local\\programs\\python\\python36\\lib\\site-packages\\ipykernel_launcher.py:16: RuntimeWarning: divide by zero encountered in double_scalars\n",
      "  app.launch_new_instance()\n"
     ]
    },
    {
     "data": {
      "image/png": "[encoded data removed]",
      "text/plain": [
       "<Figure size 288x216 with 1 Axes>"
      ]
     },
     "metadata": {
      "needs_background": "light"
     },
     "output_type": "display_data"
    },
    {
     "data": {
      "image/png": "[encoded data removed]",
      "text/plain": [
       "<Figure size 288x216 with 1 Axes>"
      ]
     },
     "metadata": {
      "needs_background": "light"
     },
     "output_type": "display_data"
    },
    {
     "name": "stderr",
     "output_type": "stream",
     "text": [
      "c:\\users\\zhastay\\appdata\\local\\programs\\python\\python36\\lib\\site-packages\\ipykernel_launcher.py:16: RuntimeWarning: divide by zero encountered in double_scalars\n",
      "  app.launch_new_instance()\n"
     ]
    },
    {
     "data": {
      "image/png": "[encoded data removed]",
      "text/plain": [
       "<Figure size 288x216 with 1 Axes>"
      ]
     },
     "metadata": {
      "needs_background": "light"
     },
     "output_type": "display_data"
    },
    {
     "name": "stderr",
     "output_type": "stream",
     "text": [
      "c:\\users\\zhastay\\appdata\\local\\programs\\python\\python36\\lib\\site-packages\\ipykernel_launcher.py:16: RuntimeWarning: divide by zero encountered in double_scalars\n",
      "  app.launch_new_instance()\n"
     ]
    },
    {
     "data": {
      "image/png": "[encoded data removed]",
      "text/plain": [
       "<Figure size 288x216 with 1 Axes>"
      ]
     },
     "metadata": {
      "needs_background": "light"
     },
     "output_type": "display_data"
    },
    {
     "name": "stderr",
     "output_type": "stream",
     "text": [
      "c:\\users\\zhastay\\appdata\\local\\programs\\python\\python36\\lib\\site-packages\\ipykernel_launcher.py:16: RuntimeWarning: divide by zero encountered in double_scalars\n",
      "  app.launch_new_instance()\n"
     ]
    },
    {
     "data": {
      "image/png": "[encoded data removed]",
      "text/plain": [
       "<Figure size 288x216 with 1 Axes>"
      ]
     },
     "metadata": {
      "needs_background": "light"
     },
     "output_type": "display_data"
    },
    {
     "data": {
      "image/png": "[encoded data removed]",
      "text/plain": [
       "<Figure size 288x216 with 1 Axes>"
      ]
     },
     "metadata": {
      "needs_background": "light"
     },
     "output_type": "display_data"
    },
    {
     "name": "stderr",
     "output_type": "stream",
     "text": [
      "c:\\users\\zhastay\\appdata\\local\\programs\\python\\python36\\lib\\site-packages\\ipykernel_launcher.py:16: RuntimeWarning: divide by zero encountered in double_scalars\n",
      "  app.launch_new_instance()\n"
     ]
    },
    {
     "data": {
      "image/png": "[encoded data removed]",
      "text/plain": [
       "<Figure size 288x216 with 1 Axes>"
      ]
     },
     "metadata": {
      "needs_background": "light"
     },
     "output_type": "display_data"
    },
    {
     "data": {
      "image/png": "[encoded data removed]",
      "text/plain": [
       "<Figure size 288x216 with 1 Axes>"
      ]
     },
     "metadata": {
      "needs_background": "light"
     },
     "output_type": "display_data"
    },
    {
     "name": "stderr",
     "output_type": "stream",
     "text": [
      "c:\\users\\zhastay\\appdata\\local\\programs\\python\\python36\\lib\\site-packages\\ipykernel_launcher.py:16: RuntimeWarning: divide by zero encountered in double_scalars\n",
      "  app.launch_new_instance()\n"
     ]
    },
    {
     "data": {
      "image/png": "[encoded data removed]",
      "text/plain": [
       "<Figure size 288x216 with 1 Axes>"
      ]
     },
     "metadata": {
      "needs_background": "light"
     },
     "output_type": "display_data"
    },
    {
     "name": "stderr",
     "output_type": "stream",
     "text": [
      "c:\\users\\zhastay\\appdata\\local\\programs\\python\\python36\\lib\\site-packages\\ipykernel_launcher.py:16: RuntimeWarning: divide by zero encountered in double_scalars\n",
      "  app.launch_new_instance()\n"
     ]
    },
    {
     "data": {
      "image/png": "[encoded data removed]",
      "text/plain": [
       "<Figure size 288x216 with 1 Axes>"
      ]
     },
     "metadata": {
      "needs_background": "light"
     },
     "output_type": "display_data"
    }
   ],
   "source": [
    "for i in range(2):\n",
    "    pred_plot(scaler_x.inverse_transform(X_test[:i+1]),\n",
    "              scaler_y.inverse_transform(y_test[:i+1]),\n",
    "              scaler_y.inverse_transform(model.predict(X_test[:i+1])),\n",
    "              i)"
   ]
  },
  {
   "cell_type": "markdown",
   "metadata": {},
   "source": [
    "# Testing and Experiments"
   ]
  },
  {
   "cell_type": "code",
   "execution_count": 34,
   "metadata": {
    "scrolled": false
   },
   "outputs": [
    {
     "name": "stdout",
     "output_type": "stream",
     "text": [
      "test index: 0\n",
      "True:  [26. 26. 26. 26. 27. 26. 26. 27. 27. 27.]\n",
      "Predicted:  [19. 18. 18. 19. 32. 18. 18. 19. 19. 19.]\n",
      "[26.0, ' - ', 19.0, ' = ', 7.0]\n",
      "[26.0, ' - ', 18.0, ' = ', 8.0]\n",
      "[26.0, ' - ', 18.0, ' = ', 8.0]\n",
      "[26.0, ' - ', 19.0, ' = ', 7.0]\n",
      "[27.0, ' - ', 32.0, ' = ', 5.0]\n",
      "[26.0, ' - ', 18.0, ' = ', 8.0]\n",
      "[26.0, ' - ', 18.0, ' = ', 8.0]\n",
      "[27.0, ' - ', 19.0, ' = ', 8.0]\n",
      "[27.0, ' - ', 19.0, ' = ', 8.0]\n",
      "[27.0, ' - ', 19.0, ' = ', 8.0]\n",
      "\n",
      "\n",
      "test index: 1\n",
      "True:  [27. 26. 27. 27. 27. 26. 27. 27. 27. 27.]\n",
      "Predicted:  [19. 18. 18. 19. 32. 18. 18. 19. 19. 19.]\n",
      "[27.0, ' - ', 19.0, ' = ', 8.0]\n",
      "[26.0, ' - ', 18.0, ' = ', 8.0]\n",
      "[27.0, ' - ', 18.0, ' = ', 9.0]\n",
      "[27.0, ' - ', 19.0, ' = ', 8.0]\n",
      "[27.0, ' - ', 32.0, ' = ', 5.0]\n",
      "[26.0, ' - ', 18.0, ' = ', 8.0]\n",
      "[27.0, ' - ', 18.0, ' = ', 9.0]\n",
      "[27.0, ' - ', 19.0, ' = ', 8.0]\n",
      "[27.0, ' - ', 19.0, ' = ', 8.0]\n",
      "[27.0, ' - ', 19.0, ' = ', 8.0]\n",
      "\n",
      "\n",
      "test index: 2\n",
      "True:  [27. 27. 27. 26. 27. 26. 26. 28. 27. 27.]\n",
      "Predicted:  [19. 18. 18. 19. 32. 18. 18. 19. 19. 19.]\n",
      "[27.0, ' - ', 19.0, ' = ', 8.0]\n",
      "[27.0, ' - ', 18.0, ' = ', 9.0]\n",
      "[27.0, ' - ', 18.0, ' = ', 9.0]\n",
      "[26.0, ' - ', 19.0, ' = ', 7.0]\n",
      "[27.0, ' - ', 32.0, ' = ', 5.0]\n",
      "[26.0, ' - ', 18.0, ' = ', 8.0]\n",
      "[26.0, ' - ', 18.0, ' = ', 8.0]\n",
      "[28.000000000000004, ' - ', 19.0, ' = ', 9.000000000000004]\n",
      "[27.0, ' - ', 19.0, ' = ', 8.0]\n",
      "[27.0, ' - ', 19.0, ' = ', 8.0]\n",
      "\n",
      "\n",
      "test index: 3\n",
      "True:  [23. 23. 23. 23. 24. 23. 23. 24. 23. 24.]\n",
      "Predicted:  [19. 18. 18. 19. 32. 18. 18. 19. 19. 19.]\n",
      "[23.0, ' - ', 19.0, ' = ', 4.0]\n",
      "[23.0, ' - ', 18.0, ' = ', 5.0]\n",
      "[23.0, ' - ', 18.0, ' = ', 5.0]\n",
      "[23.0, ' - ', 19.0, ' = ', 4.0]\n",
      "[24.0, ' - ', 32.0, ' = ', 8.0]\n",
      "[23.0, ' - ', 18.0, ' = ', 5.0]\n",
      "[23.0, ' - ', 18.0, ' = ', 5.0]\n",
      "[24.0, ' - ', 19.0, ' = ', 5.0]\n",
      "[23.0, ' - ', 19.0, ' = ', 4.0]\n",
      "[24.0, ' - ', 19.0, ' = ', 5.0]\n",
      "\n",
      "\n",
      "test index: 4\n",
      "True:  [26. 26. 26. 26. 27. 26. 26. 27. 27. 27.]\n",
      "Predicted:  [19. 18. 18. 19. 32. 18. 18. 19. 19. 19.]\n",
      "[26.0, ' - ', 19.0, ' = ', 7.0]\n",
      "[26.0, ' - ', 18.0, ' = ', 8.0]\n",
      "[26.0, ' - ', 18.0, ' = ', 8.0]\n",
      "[26.0, ' - ', 19.0, ' = ', 7.0]\n",
      "[27.0, ' - ', 32.0, ' = ', 5.0]\n",
      "[26.0, ' - ', 18.0, ' = ', 8.0]\n",
      "[26.0, ' - ', 18.0, ' = ', 8.0]\n",
      "[27.0, ' - ', 19.0, ' = ', 8.0]\n",
      "[27.0, ' - ', 19.0, ' = ', 8.0]\n",
      "[27.0, ' - ', 19.0, ' = ', 8.0]\n",
      "\n",
      "\n"
     ]
    }
   ],
   "source": [
    "for i in range(5):\n",
    "    print('test index:', i)\n",
    "    true = scaler_x.inverse_transform(X_test[i:i+1])[0][(N_TIME - 1) * 10:(N_TIME - 1) * 10 + 10]\n",
    "    print('True: ', true)\n",
    "\n",
    "    ynew= model.predict(X_test)\n",
    "    predict = scaler_y.inverse_transform(ynew[i:i+1])[0]\n",
    "    print('Predicted: ', predict)\n",
    "\n",
    "    result = []\n",
    "    for j in range(len(true)):\n",
    "        result.append([true[j], \" - \", predict[j], \" = \", abs(true[j] - predict[j])])\n",
    "    \n",
    "    for j in result:\n",
    "        print(j)\n",
    "    print(\"\\n\")"
   ]
  },
  {
   "cell_type": "markdown",
   "metadata": {},
   "source": [
    "# Visualizations"
   ]
  },
  {
   "cell_type": "code",
   "execution_count": 35,
   "metadata": {},
   "outputs": [],
   "source": [
    "def plot_train_history(history, title):\n",
    "  mpl.rcParams['figure.figsize'] = (8, 6)\n",
    "  mpl.rcParams['axes.grid'] = False\n",
    "    \n",
    "  loss = history.history['loss']\n",
    "  val_loss = history.history['val_loss']\n",
    "    \n",
    "  epochs = range(len(loss))\n",
    "\n",
    "  y = []\n",
    "  for i in epochs:\n",
    "        y.append(0)\n",
    "\n",
    "  plt.figure()\n",
    "\n",
    "  plt.plot(epochs, loss, 'b', label='Training loss')\n",
    "  plt.plot(epochs, val_loss, 'r', label='Validation loss')\n",
    "  plt.plot(epochs, y, 'g', label='y = 0 axis')\n",
    "  plt.xlabel('Epochs')\n",
    "  plt.ylabel('MSE value or Losses')\n",
    "    \n",
    "  plt.title(title)\n",
    "  plt.legend()\n",
    "\n",
    "  plt.show()"
   ]
  },
  {
   "cell_type": "code",
   "execution_count": 36,
   "metadata": {},
   "outputs": [
    {
     "data": {
      "image/png": "[encoded data removed]",
      "text/plain": [
       "<Figure size 576x432 with 1 Axes>"
      ]
     },
     "metadata": {
      "needs_background": "light"
     },
     "output_type": "display_data"
    }
   ],
   "source": [
    "plot_train_history(fit,\n",
    "                   'Visualization losses')"
   ]
  },
  {
   "cell_type": "raw",
   "metadata": {},
   "source": [
    "mpl.rcParams['figure.figsize'] = (24,18)\n",
    "mpl.rcParams['axes.grid'] = False\n",
    "uni_data = test_df\n",
    "uni_data.index = list(test_df.index.values)\n",
    "uni_data.head()\n",
    "uni_data.plot(subplots=True)"
   ]
  },
  {
   "cell_type": "code",
   "execution_count": null,
   "metadata": {},
   "outputs": [],
   "source": []
  }
 ],
 "metadata": {
  "kernelspec": {
   "display_name": "Python 3",
   "language": "python",
   "name": "python3"
  },
  "language_info": {
   "codemirror_mode": {
    "name": "ipython",
    "version": 3
   },
   "file_extension": ".py",
   "mimetype": "text/x-python",
   "name": "python",
   "nbconvert_exporter": "python",
   "pygments_lexer": "ipython3",
   "version": "3.6.5"
  }
 },
 "nbformat": 4,
 "nbformat_minor": 2
}
